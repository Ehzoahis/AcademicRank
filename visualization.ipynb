{
 "cells": [
  {
   "cell_type": "code",
   "execution_count": 1,
   "metadata": {},
   "outputs": [],
   "source": [
    "import requests\n",
    "import json\n",
    "import glob\n",
    "import csv"
   ]
  },
  {
   "cell_type": "markdown",
   "metadata": {},
   "source": [
    "#### MAG API Subscription Key"
   ]
  },
  {
   "cell_type": "code",
   "execution_count": 2,
   "metadata": {},
   "outputs": [],
   "source": [
    "HEADERS = {\"Ocp-Apim-Subscription-Key\": \"c9ed15c311b6478bbf1feea30350432a\"} # Specific to Haozhe Si\n",
    "QUERYSTRING = {\"mode\":\"json%0A\"}\n",
    "PAYLOAD = \"{}\"\n",
    "sup_key=\"c9ed15c311b6478bbf1feea30350432a\""
   ]
  },
  {
   "cell_type": "markdown",
   "metadata": {},
   "source": [
    "#### Translate Paper ID into Paper Name"
   ]
  },
  {
   "cell_type": "code",
   "execution_count": 3,
   "metadata": {},
   "outputs": [],
   "source": [
    "def MAG_get_refs(pid):\n",
    "    # translate PId into DN\n",
    "    find_field_attr = 'DN'\n",
    "    find_field_url = \"https://api.labs.cognitive.microsoft.com/academic/v1.0/evaluate?&count={}&expr=AND(Id={})&attributes={}\".format(10, str(pid), find_field_attr)\n",
    "    response = requests.request(\"GET\", find_field_url, headers=HEADERS, data=PAYLOAD, params=QUERYSTRING)\n",
    "    try:\n",
    "        entity_list = json.loads(response.text)['entities']\n",
    "    except:\n",
    "        return []\n",
    "\n",
    "    #Get paper information\n",
    "    pfos_list = []\n",
    "    for entity in entity_list:\n",
    "        if 'DN' in entity:\n",
    "            fn = entity['DN']\n",
    "            pfos_list.append(fn)\n",
    "    return pfos_list"
   ]
  },
  {
   "cell_type": "code",
   "execution_count": 4,
   "metadata": {},
   "outputs": [],
   "source": [
    "def MAG_get_fn(pid):\n",
    "    # Find all the papers for that author ID\n",
    "    find_field_attr = 'F.FN'\n",
    "    find_field_url = \"https://api.labs.cognitive.microsoft.com/academic/v1.0/evaluate?&count={}&expr=AND(Id={})&attributes={}\".format(10, str(pid), find_field_attr)\n",
    "    response = requests.request(\"GET\", find_field_url, headers=HEADERS, data=PAYLOAD, params=QUERYSTRING)\n",
    "    try:\n",
    "        entity_list = json.loads(response.text)['entities']\n",
    "    except:\n",
    "        return []\n",
    "\n",
    "    #Get paper information\n",
    "    pfos_list = []\n",
    "    for entity in entity_list:\n",
    "        if 'F' in entity:\n",
    "            fdict = entity['F']\n",
    "            for fn in fdict:\n",
    "                fos = fn['FN']\n",
    "                pfos_list.append(fos)\n",
    "    return pfos_list"
   ]
  },
  {
   "cell_type": "code",
   "execution_count": 5,
   "metadata": {},
   "outputs": [
    {
     "data": {
      "text/plain": [
       "['fuzzy set operations',\n",
       " 'type 2 fuzzy sets and systems',\n",
       " 'defuzzification',\n",
       " 'fuzzy set',\n",
       " 'membership function',\n",
       " 'fuzzy classification',\n",
       " 'fuzzy number',\n",
       " 'vague set',\n",
       " 'computer science',\n",
       " 'data mining']"
      ]
     },
     "execution_count": 5,
     "metadata": {},
     "output_type": "execute_result"
    }
   ],
   "source": [
    "MAG_get_fn(2912565176)"
   ]
  },
  {
   "cell_type": "markdown",
   "metadata": {},
   "source": [
    "#### Example: data mining\n",
    "##### AcademicRank:"
   ]
  },
  {
   "cell_type": "code",
   "execution_count": 76,
   "metadata": {},
   "outputs": [],
   "source": [
    "dm_83k_cs = [2912565176,2140190241,2061240006,2166559705,1880262756,1570448133,1525232459,2098759488,2044758663,2966207845]"
   ]
  },
  {
   "cell_type": "code",
   "execution_count": 78,
   "metadata": {},
   "outputs": [
    {
     "name": "stdout",
     "output_type": "stream",
     "text": [
      "['Fuzzy sets']\n",
      "['Data Mining: Concepts and Techniques']\n",
      "['Multi-resolution, object-oriented fuzzy analysis of remote sensing data for GIS-ready information']\n",
      "['Mining association rules between sets of items in large databases']\n",
      "['Latent dirichlet allocation']\n",
      "['Data Mining: Practical Machine Learning Tools and Techniques']\n",
      "['A manual for repertory grid technique']\n",
      "['Querying and mining of time series data: experimental comparison of representations and distance measures']\n",
      "['Statistical Analysis with Missing Data']\n",
      "['Data Mining']\n"
     ]
    }
   ],
   "source": [
    "for fid in dm_83k_cs:\n",
    "    print(MAG_get_refs(fid))"
   ]
  },
  {
   "cell_type": "markdown",
   "metadata": {},
   "source": [
    "##### Citation Count:"
   ]
  },
  {
   "cell_type": "code",
   "execution_count": 57,
   "metadata": {},
   "outputs": [],
   "source": [
    "dm_83k_cnt = [1880262756,1570448133,2044758663,2161633633,2187089797,1971421925,2141052558,1506285740,2002374079,2612166593]"
   ]
  },
  {
   "cell_type": "code",
   "execution_count": 58,
   "metadata": {},
   "outputs": [
    {
     "name": "stdout",
     "output_type": "stream",
     "text": [
      "['Latent dirichlet allocation']\n",
      "['Data Mining: Practical Machine Learning Tools and Techniques']\n",
      "['Statistical Analysis with Missing Data']\n",
      "['PLINK: A Tool Set for Whole-Genome Association and Population-Based Linkage Analyses']\n",
      "['Visualizing Data using t-SNE']\n",
      "['Community structure in social and biological networks']\n",
      "['RAxML version 8: a tool for phylogenetic analysis and post-analysis of large phylogenies.']\n",
      "['Fast Algorithms for Mining Association Rules in Large Databases']\n",
      "['Categorical Data Analysis']\n",
      "['Cluster Analysis']\n"
     ]
    }
   ],
   "source": [
    "for fid in dm_83k_cnt:\n",
    "    print(MAG_get_refs(fid))"
   ]
  },
  {
   "cell_type": "markdown",
   "metadata": {},
   "source": [
    "#### Example: Computer Science\n",
    "##### AcademicRank:"
   ]
  },
  {
   "cell_type": "code",
   "execution_count": 63,
   "metadata": {},
   "outputs": [],
   "source": [
    "cs_83k_cs = [2032173185,1555915743,2912565176,2822311213,1528022241,2068871408,1799595182,2798333393,2605445762,2124776405]"
   ]
  },
  {
   "cell_type": "code",
   "execution_count": 64,
   "metadata": {},
   "outputs": [
    {
     "name": "stdout",
     "output_type": "stream",
     "text": [
      "['Linear Matrix Inequalities in Systems and Control Theory']\n",
      "['Computer Architecture: A Quantitative Approach']\n",
      "['Fuzzy sets']\n",
      "['Image display apparatus']\n",
      "['Becoming Qualitative Researchers: An Introduction']\n",
      "['The Probabilistic Method']\n",
      "['Digital broadcast receiver']\n",
      "['Digital Communications']\n",
      "['Information processing apparatus and information processing method']\n",
      "['Neural Networks: A Comprehensive Foundation']\n"
     ]
    }
   ],
   "source": [
    "for fid in cs_83k_cs:\n",
    "    print(MAG_get_refs(fid))"
   ]
  },
  {
   "cell_type": "markdown",
   "metadata": {},
   "source": [
    "##### Citation Count:"
   ]
  },
  {
   "cell_type": "code",
   "execution_count": 84,
   "metadata": {},
   "outputs": [],
   "source": [
    "cs_83k_cnt = [2002252750,2001619934,2165698076,2912565176,2097725665,1586060904,2133059825,2107743791,1639032689,2151103935]"
   ]
  },
  {
   "cell_type": "code",
   "execution_count": 85,
   "metadata": {},
   "outputs": [
    {
     "name": "stdout",
     "output_type": "stream",
     "text": [
      "['Johnson: computers and intractability: a guide to the theory of np- completeness (freeman']\n",
      "['THE USE OF MULTIPLE MEASUREMENTS IN TAXONOMIC PROBLEMS']\n",
      "['A Survey on Transfer Learning']\n",
      "['Fuzzy sets']\n",
      "['SIP: Session Initiation Protocol']\n",
      "['Lectures on Government and Binding']\n",
      "['A threshold selection method from gray level histograms']\n",
      "['Probabilistic latent semantic indexing']\n",
      "['Genetic algorithms in search, optimization, and machine learning']\n",
      "['Distinctive Image Features from Scale-Invariant Keypoints']\n"
     ]
    }
   ],
   "source": [
    "for fid in cs_83k_cnt:\n",
    "    print(MAG_get_refs(fid))"
   ]
  },
  {
   "cell_type": "markdown",
   "metadata": {},
   "source": [
    "#### Example: machine learning\n",
    "##### AcademicRank:"
   ]
  },
  {
   "cell_type": "code",
   "execution_count": 80,
   "metadata": {},
   "outputs": [],
   "source": [
    "ml_83k_cs = [1639032689,2151103935,2156909104,2152195021,2124776405,2153635508,1533861849,2194775991,2163605009,2148603752]"
   ]
  },
  {
   "cell_type": "code",
   "execution_count": 81,
   "metadata": {},
   "outputs": [
    {
     "name": "stdout",
     "output_type": "stream",
     "text": [
      "['Genetic algorithms in search, optimization, and machine learning']\n",
      "['Distinctive Image Features from Scale-Invariant Keypoints']\n",
      "['The Nature of Statistical Learning Theory']\n",
      "['Particle swarm optimization']\n",
      "['Neural Networks: A Comprehensive Foundation']\n",
      "['LIBSVM: A library for support vector machines']\n",
      "['Understanding the difficulty of training deep feedforward neural networks']\n",
      "['Deep Residual Learning for Image Recognition']\n",
      "['ImageNet Classification with Deep Convolutional Neural Networks']\n",
      "['Statistical learning theory']\n"
     ]
    }
   ],
   "source": [
    "for fid in ml_83k_cs:\n",
    "    print(MAG_get_refs(fid))"
   ]
  },
  {
   "cell_type": "markdown",
   "metadata": {},
   "source": [
    "##### Citation Count:"
   ]
  },
  {
   "cell_type": "code",
   "execution_count": 8,
   "metadata": {},
   "outputs": [],
   "source": [
    "ml_83k_cnt = [2156909104,2158698691,1849277567,2172000360,1825077972,2799002609,2158899491,2147169507,2125899728,2171277043]"
   ]
  },
  {
   "cell_type": "code",
   "execution_count": 9,
   "metadata": {},
   "outputs": [
    {
     "name": "stdout",
     "output_type": "stream",
     "text": [
      "['The Nature of Statistical Learning Theory']\n",
      "['An introduction to ROC analysis']\n",
      "['Visualizing and Understanding Convolutional Networks']\n",
      "['A comparison of methods for multiclass support vector machines']\n",
      "['Neural network design']\n",
      "['Statistical Inference']\n",
      "['Natural Language Processing (Almost) from Scratch']\n",
      "['Instance-Based Learning Algorithms']\n",
      "['Comparison of Multiobjective Evolutionary Algorithms: Empirical Results']\n",
      "['Fast learning in networks of locally-tuned processing units']\n"
     ]
    }
   ],
   "source": [
    "for fid in ml_83k_cnt:\n",
    "    print(MAG_get_refs(fid))"
   ]
  },
  {
   "cell_type": "markdown",
   "metadata": {},
   "source": [
    "#### Example: computer architecture\n",
    "##### AcademicRank:"
   ]
  },
  {
   "cell_type": "code",
   "execution_count": 82,
   "metadata": {},
   "outputs": [],
   "source": [
    "ca_83k_cs = [2147853062,2146395539,2155893237,2172073677,2153090463,1666015432,2017369466,2147657366,2104225326,2115294662]"
   ]
  },
  {
   "cell_type": "code",
   "execution_count": 83,
   "metadata": {},
   "outputs": [
    {
     "name": "stdout",
     "output_type": "stream",
     "text": [
      "['RAID: high-performance, reliable secondary storage']\n",
      "['Overview of the High Efficiency Video Coding (HEVC) Standard']\n",
      "['Caffe: Convolutional Architecture for Fast Feature Embedding']\n",
      "['Overview of the Scalable Video Coding Extension of the H.264/AVC Standard']\n",
      "['Cognitive Radio An Integrated Agent Architecture for Software Defined Radio']\n",
      "['Introduction to VLSI systems']\n",
      "['Why systolic architectures']\n",
      "['The gem5 simulator']\n",
      "['SimpleScalar: an infrastructure for computer system modeling']\n",
      "['Reconfigurable computing: a survey of systems and software']\n"
     ]
    }
   ],
   "source": [
    "for fid in ca_83k_cs:\n",
    "    print(MAG_get_refs(fid))"
   ]
  },
  {
   "cell_type": "markdown",
   "metadata": {},
   "source": [
    "##### Citation Count:"
   ]
  },
  {
   "cell_type": "code",
   "execution_count": 10,
   "metadata": {},
   "outputs": [],
   "source": [
    "ca_83k_cnt = [1666015432,1518236483,2788962374,2059807497,1538592187,2103444363,2165099691,2151845324,2170653240,2129034036]"
   ]
  },
  {
   "cell_type": "code",
   "execution_count": 11,
   "metadata": {},
   "outputs": [
    {
     "name": "stdout",
     "output_type": "stream",
     "text": [
      "['Introduction to VLSI systems']\n",
      "['CMOS VLSI Design: A Circuits and Systems Perspective']\n",
      "['Computer Architecture: A Quantitative Approach, 2nd Edition']\n",
      "['Introduction to the cell multiprocessor']\n",
      "['Computer architecture (2nd ed.): a quantitative approach']\n",
      "['The structure of the “THE”-multiprogramming system']\n",
      "['Garp: a MIPS processor with a reconfigurable coprocessor']\n",
      "['DIVA: a reliable substrate for deep submicron microarchitecture design']\n",
      "['The case for a single-chip multiprocessor']\n",
      "['ANGSD: Analysis of Next Generation Sequencing Data']\n"
     ]
    }
   ],
   "source": [
    "for fid in ca_83k_cnt:\n",
    "    print(MAG_get_refs(fid))"
   ]
  },
  {
   "cell_type": "markdown",
   "metadata": {},
   "source": [
    "#### Example: informational retrieval\n",
    "##### AcademicRank:"
   ]
  },
  {
   "cell_type": "code",
   "execution_count": 86,
   "metadata": {},
   "outputs": [],
   "source": [
    "ir_83k_cs = [2066636486,2108598243,2038721957,2164741953,2147152072,1956559956,1992419399,2142225512,1660390307,2108234281]"
   ]
  },
  {
   "cell_type": "code",
   "execution_count": 87,
   "metadata": {},
   "outputs": [
    {
     "name": "stdout",
     "output_type": "stream",
     "text": [
      "['The anatomy of a large-scale hypertextual Web search engine']\n",
      "['ImageNet: A large-scale hierarchical image database']\n",
      "['WordNet : an electronic lexical database']\n",
      "['Image Analysis and Mathematical Morphology']\n",
      "['Indexing by Latent Semantic Analysis']\n",
      "['Introduction to Modern Information Retrieval']\n",
      "['Data clustering: a review']\n",
      "['Three Approaches to Qualitative Content Analysis']\n",
      "['Modern Information Retrieval']\n",
      "['The Sequence Alignment/Map format and SAMtools']\n"
     ]
    }
   ],
   "source": [
    "for fid in ir_83k_cs:\n",
    "    print(MAG_get_refs(fid))"
   ]
  },
  {
   "cell_type": "markdown",
   "metadata": {},
   "source": [
    "##### Citation Count:"
   ]
  },
  {
   "cell_type": "code",
   "execution_count": 14,
   "metadata": {},
   "outputs": [],
   "source": [
    "ir_83k_cnt = [2147152072,2038721957,2133097426,2004184632,2122683221,2004548026,102708294,2117239687,2030517878,1999047234]"
   ]
  },
  {
   "cell_type": "code",
   "execution_count": 15,
   "metadata": {},
   "outputs": [
    {
     "name": "stdout",
     "output_type": "stream",
     "text": [
      "['Indexing by Latent Semantic Analysis']\n",
      "['WordNet : an electronic lexical database']\n",
      "['The scree test for the number of factors']\n",
      "['Qualitative data analysis: a sourcebook of new methods']\n",
      "['DAVID: Database for Annotation, Visualization, and Integrated Discovery']\n",
      "['The RAST Server: Rapid Annotations using Subsystems Technology']\n",
      "['DBpedia: a nucleus for a web of open data']\n",
      "['Detecting influenza epidemics using search engine query data']\n",
      "['Dali server: conservation mapping in 3D']\n",
      "['GroupLens: applying collaborative filtering to Usenet news']\n"
     ]
    }
   ],
   "source": [
    "for fid in ir_83k_cnt:\n",
    "    print(MAG_get_refs(fid))"
   ]
  },
  {
   "cell_type": "code",
   "execution_count": null,
   "metadata": {},
   "outputs": [],
   "source": []
  }
 ],
 "metadata": {
  "kernelspec": {
   "display_name": "Python 3",
   "language": "python",
   "name": "python3"
  },
  "language_info": {
   "codemirror_mode": {
    "name": "ipython",
    "version": 3
   },
   "file_extension": ".py",
   "mimetype": "text/x-python",
   "name": "python",
   "nbconvert_exporter": "python",
   "pygments_lexer": "ipython3",
   "version": "3.7.3"
  }
 },
 "nbformat": 4,
 "nbformat_minor": 4
}
